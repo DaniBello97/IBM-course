{
 "cells": [
  {
   "cell_type": "markdown",
   "id": "e4b3066b-68d2-4423-b504-b50e84e0fa81",
   "metadata": {},
   "source": [
    "# Data Science Tools and Ecosystem\n",
    "## In this notebook, Data Science Tools and Ecosystem are summarized"
   ]
  },
  {
   "cell_type": "markdown",
   "id": "ed7c012b-eb5e-4138-a211-90b26e0334b3",
   "metadata": {},
   "source": [
    "## __Objectives__:\n",
    "* List popular languages for Data Science\n",
    "* Commonly used libraries used by Data Scientist\n",
    "* Data Science Tools\n",
    "* Arithmetic expressiones"
   ]
  },
  {
   "cell_type": "markdown",
   "id": "87d1cbb8-8b9e-4314-91e5-b9154ed7e035",
   "metadata": {
    "jp-MarkdownHeadingCollapsed": true
   },
   "source": [
    "### Some of the popular languages that Data Scientists use are:\n",
    "\n",
    "1. Python\n",
    "2. 1\n",
    "3. R\n",
    "4. Julia\n",
    "\r\n",
    "\n"
   ]
  },
  {
   "cell_type": "markdown",
   "id": "c4d4ac99-c706-4d02-9d22-f230faed85e5",
   "metadata": {},
   "source": [
    "### Some of the commonly used libraries used by Data Scientist include:\n",
    "1. Scikit-Learn\n",
    "2. TensorFlow\n",
    "3. NumPy\n",
    "4. Pandas\n",
    "5. Matplotlib"
   ]
  },
  {
   "cell_type": "markdown",
   "id": "c0af16de-89dc-4f79-8a93-666d816ece29",
   "metadata": {},
   "source": [
    "|Data Science Tools|\n",
    "|----|\n",
    "|Jupyter Notebooks|\n",
    "|RStudio|\n",
    "|VSCode|"
   ]
  },
  {
   "cell_type": "markdown",
   "id": "b808154a-0797-41db-91b4-7b51dbf34f82",
   "metadata": {},
   "source": [
    "### Below are a few examples of evaluating arithmetic expressiones in Python"
   ]
  },
  {
   "cell_type": "code",
   "execution_count": 14,
   "id": "2c1b1988-d355-4e5d-b9ed-1399f9d43f3a",
   "metadata": {},
   "outputs": [
    {
     "data": {
      "text/plain": [
       "17"
      ]
     },
     "execution_count": 14,
     "metadata": {},
     "output_type": "execute_result"
    }
   ],
   "source": [
    "## This a simple arithmetic expression to mutiply then add integers\n",
    "\n",
    "(3*4)+5"
   ]
  },
  {
   "cell_type": "code",
   "execution_count": 16,
   "id": "495f9412-89be-4d96-9e0c-74d0637808fa",
   "metadata": {},
   "outputs": [
    {
     "name": "stdout",
     "output_type": "stream",
     "text": [
      "3.3333333333333335\n"
     ]
    }
   ],
   "source": [
    "## This will convert 200 minutes to hours by diving by 60\n",
    "minutes = 200\n",
    "hours = 60\n",
    "result = minutes/hours\n",
    "print(result)"
   ]
  },
  {
   "cell_type": "markdown",
   "id": "685b64ad-d7bf-4e8d-a3aa-6e16fd3abc11",
   "metadata": {},
   "source": [
    "## Author \n",
    "Daniel González Bello"
   ]
  },
  {
   "cell_type": "code",
   "execution_count": null,
   "id": "d500f137-4b1e-4a9a-b1dd-c7a69fbf078a",
   "metadata": {},
   "outputs": [],
   "source": []
  },
  {
   "cell_type": "code",
   "execution_count": null,
   "id": "b535702c-9ab2-41b7-a10f-d0323c758d15",
   "metadata": {},
   "outputs": [],
   "source": []
  }
 ],
 "metadata": {
  "kernelspec": {
   "display_name": "Python 3 (ipykernel)",
   "language": "python",
   "name": "python3"
  },
  "language_info": {
   "codemirror_mode": {
    "name": "ipython",
    "version": 3
   },
   "file_extension": ".py",
   "mimetype": "text/x-python",
   "name": "python",
   "nbconvert_exporter": "python",
   "pygments_lexer": "ipython3",
   "version": "3.12.4"
  }
 },
 "nbformat": 4,
 "nbformat_minor": 5
}
